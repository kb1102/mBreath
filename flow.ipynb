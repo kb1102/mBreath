{
 "cells": [
  {
   "cell_type": "code",
   "execution_count": 127,
   "metadata": {
    "collapsed": true
   },
   "outputs": [],
   "source": [
    "import pyedflib"
   ]
  },
  {
   "cell_type": "code",
   "execution_count": 128,
   "metadata": {
    "collapsed": true
   },
   "outputs": [],
   "source": [
    "import pandas as pd\n",
    "import numpy as np"
   ]
  },
  {
   "cell_type": "code",
   "execution_count": 129,
   "metadata": {
    "collapsed": true
   },
   "outputs": [],
   "source": [
    "f._close\n",
    "del f"
   ]
  },
  {
   "cell_type": "code",
   "execution_count": 130,
   "metadata": {},
   "outputs": [],
   "source": [
    "\n",
    "f = pyedflib.EdfReader(\"./flow/mesa-sleep-0001.edf\")\n"
   ]
  },
  {
   "cell_type": "code",
   "execution_count": 131,
   "metadata": {},
   "outputs": [],
   "source": [
    "signal_labels = f.getSignalLabels()"
   ]
  },
  {
   "cell_type": "code",
   "execution_count": 132,
   "metadata": {},
   "outputs": [
    {
     "data": {
      "text/plain": [
       "range(0, 27)"
      ]
     },
     "execution_count": 132,
     "metadata": {},
     "output_type": "execute_result"
    }
   ],
   "source": [
    "range(len(signal_labels))"
   ]
  },
  {
   "cell_type": "code",
   "execution_count": 133,
   "metadata": {},
   "outputs": [
    {
     "name": "stdout",
     "output_type": "stream",
     "text": [
      "\n",
      "signal parameters for the 0.channel:\n",
      "\n",
      "\n",
      "label: EKG\n",
      "samples in file: 11058944\n",
      "\n",
      "signal parameters for the 1.channel:\n",
      "\n",
      "\n",
      "label: EOG-L\n",
      "samples in file: 11058944\n",
      "\n",
      "signal parameters for the 2.channel:\n",
      "\n",
      "\n",
      "label: EOG-R\n",
      "samples in file: 11058944\n",
      "\n",
      "signal parameters for the 3.channel:\n",
      "\n",
      "\n",
      "label: EMG\n",
      "samples in file: 11058944\n",
      "\n",
      "signal parameters for the 4.channel:\n",
      "\n",
      "\n",
      "label: EEG1\n",
      "samples in file: 11058944\n",
      "\n",
      "signal parameters for the 5.channel:\n",
      "\n",
      "\n",
      "label: EEG2\n",
      "samples in file: 11058944\n",
      "\n",
      "signal parameters for the 6.channel:\n",
      "\n",
      "\n",
      "label: EEG3\n",
      "samples in file: 11058944\n",
      "\n",
      "signal parameters for the 7.channel:\n",
      "\n",
      "\n",
      "label: Pres\n",
      "samples in file: 1382368\n",
      "\n",
      "signal parameters for the 8.channel:\n",
      "\n",
      "\n",
      "label: Flow\n",
      "samples in file: 1382368\n",
      "\n",
      "signal parameters for the 9.channel:\n",
      "\n",
      "\n",
      "label: Snore\n",
      "samples in file: 1382368\n",
      "\n",
      "signal parameters for the 10.channel:\n",
      "\n",
      "\n",
      "label: Thor\n",
      "samples in file: 1382368\n",
      "\n",
      "signal parameters for the 11.channel:\n",
      "\n",
      "\n",
      "label: Abdo\n",
      "samples in file: 1382368\n",
      "\n",
      "signal parameters for the 12.channel:\n",
      "\n",
      "\n",
      "label: Leg\n",
      "samples in file: 1382368\n",
      "\n",
      "signal parameters for the 13.channel:\n",
      "\n",
      "\n",
      "label: Therm\n",
      "samples in file: 1382368\n",
      "\n",
      "signal parameters for the 14.channel:\n",
      "\n",
      "\n",
      "label: Pos\n",
      "samples in file: 1382368\n",
      "\n",
      "signal parameters for the 15.channel:\n",
      "\n",
      "\n",
      "label: EKG_Off\n",
      "samples in file: 43199\n",
      "\n",
      "signal parameters for the 16.channel:\n",
      "\n",
      "\n",
      "label: EOG-L_Off\n",
      "samples in file: 43199\n",
      "\n",
      "signal parameters for the 17.channel:\n",
      "\n",
      "\n",
      "label: EOG-R_Off\n",
      "samples in file: 43199\n",
      "\n",
      "signal parameters for the 18.channel:\n",
      "\n",
      "\n",
      "label: EMG_Off\n",
      "samples in file: 43199\n",
      "\n",
      "signal parameters for the 19.channel:\n",
      "\n",
      "\n",
      "label: EEG1_Off\n",
      "samples in file: 43199\n",
      "\n",
      "signal parameters for the 20.channel:\n",
      "\n",
      "\n",
      "label: EEG2_Off\n",
      "samples in file: 43199\n",
      "\n",
      "signal parameters for the 21.channel:\n",
      "\n",
      "\n",
      "label: EEG3_Off\n",
      "samples in file: 43199\n",
      "\n",
      "signal parameters for the 22.channel:\n",
      "\n",
      "\n",
      "label: Pleth\n",
      "samples in file: 11058944\n",
      "\n",
      "signal parameters for the 23.channel:\n",
      "\n",
      "\n",
      "label: OxStatus\n",
      "samples in file: 43199\n",
      "\n",
      "signal parameters for the 24.channel:\n",
      "\n",
      "\n",
      "label: SpO2\n",
      "samples in file: 43199\n",
      "\n",
      "signal parameters for the 25.channel:\n",
      "\n",
      "\n",
      "label: HR\n",
      "samples in file: 43199\n",
      "\n",
      "signal parameters for the 26.channel:\n",
      "\n",
      "\n",
      "label: DHR\n",
      "samples in file: 11058944\n"
     ]
    }
   ],
   "source": [
    "\n",
    "for channel in range(len(signal_labels)):\n",
    "\n",
    "    print(\"\\nsignal parameters for the %d.channel:\\n\\n\" % channel)\n",
    "\n",
    "    print(\"label: %s\" % f.getLabel(channel))\n",
    "    print(\"samples in file: %i\" % f.getNSamples()[channel])"
   ]
  },
  {
   "cell_type": "code",
   "execution_count": 134,
   "metadata": {
    "collapsed": true
   },
   "outputs": [],
   "source": [
    "channel =8 #for flow "
   ]
  },
  {
   "cell_type": "code",
   "execution_count": 135,
   "metadata": {},
   "outputs": [],
   "source": [
    "sampel_rate =f.getNSamples()[channel] \n",
    "read_signal=f.readSignal(channel)\n",
    "n =f.getNSamples()[channel]"
   ]
  },
  {
   "cell_type": "code",
   "execution_count": 136,
   "metadata": {},
   "outputs": [],
   "source": [
    "Flow=[]\n",
    "Epoch=[]\n",
    "epoch=0\n",
    "for i in np.arange(n):\n",
    "    flow=read_signal[i]\n",
    "    Flow.append(flow)\n",
    "      \n",
    "    epoch=epoch\n",
    "    Epoch.append(epoch)\n",
    "       \n",
    "    epoch=epoch+ (1/32)"
   ]
  },
  {
   "cell_type": "code",
   "execution_count": 137,
   "metadata": {},
   "outputs": [],
   "source": [
    "data={'Flow':Flow,'Epoch':Epoch}"
   ]
  },
  {
   "cell_type": "code",
   "execution_count": 138,
   "metadata": {},
   "outputs": [],
   "source": [
    "edftocsv=pd.DataFrame(data)"
   ]
  },
  {
   "cell_type": "code",
   "execution_count": 139,
   "metadata": {},
   "outputs": [
    {
     "data": {
      "text/html": [
       "<div>\n",
       "<style>\n",
       "    .dataframe thead tr:only-child th {\n",
       "        text-align: right;\n",
       "    }\n",
       "\n",
       "    .dataframe thead th {\n",
       "        text-align: left;\n",
       "    }\n",
       "\n",
       "    .dataframe tbody tr th {\n",
       "        vertical-align: top;\n",
       "    }\n",
       "</style>\n",
       "<table border=\"1\" class=\"dataframe\">\n",
       "  <thead>\n",
       "    <tr style=\"text-align: right;\">\n",
       "      <th></th>\n",
       "      <th>Epoch</th>\n",
       "      <th>Flow</th>\n",
       "    </tr>\n",
       "  </thead>\n",
       "  <tbody>\n",
       "    <tr>\n",
       "      <th>0</th>\n",
       "      <td>0.00000</td>\n",
       "      <td>-0.069856</td>\n",
       "    </tr>\n",
       "    <tr>\n",
       "      <th>1</th>\n",
       "      <td>0.03125</td>\n",
       "      <td>-0.089265</td>\n",
       "    </tr>\n",
       "    <tr>\n",
       "      <th>2</th>\n",
       "      <td>0.06250</td>\n",
       "      <td>-0.090181</td>\n",
       "    </tr>\n",
       "    <tr>\n",
       "      <th>3</th>\n",
       "      <td>0.09375</td>\n",
       "      <td>-0.091646</td>\n",
       "    </tr>\n",
       "    <tr>\n",
       "      <th>4</th>\n",
       "      <td>0.12500</td>\n",
       "      <td>-0.093843</td>\n",
       "    </tr>\n",
       "  </tbody>\n",
       "</table>\n",
       "</div>"
      ],
      "text/plain": [
       "     Epoch      Flow\n",
       "0  0.00000 -0.069856\n",
       "1  0.03125 -0.089265\n",
       "2  0.06250 -0.090181\n",
       "3  0.09375 -0.091646\n",
       "4  0.12500 -0.093843"
      ]
     },
     "execution_count": 139,
     "metadata": {},
     "output_type": "execute_result"
    }
   ],
   "source": [
    "edftocsv.head()"
   ]
  },
  {
   "cell_type": "code",
   "execution_count": null,
   "metadata": {
    "collapsed": true
   },
   "outputs": [],
   "source": []
  }
 ],
 "metadata": {
  "kernelspec": {
   "display_name": "Python 3",
   "language": "python",
   "name": "python3"
  },
  "language_info": {
   "codemirror_mode": {
    "name": "ipython",
    "version": 3
   },
   "file_extension": ".py",
   "mimetype": "text/x-python",
   "name": "python",
   "nbconvert_exporter": "python",
   "pygments_lexer": "ipython3",
   "version": "3.6.3"
  }
 },
 "nbformat": 4,
 "nbformat_minor": 2
}
