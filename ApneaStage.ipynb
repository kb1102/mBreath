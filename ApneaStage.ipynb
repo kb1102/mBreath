{
 "cells": [
  {
   "cell_type": "code",
   "execution_count": 1,
   "metadata": {
    "collapsed": true
   },
   "outputs": [],
   "source": [
    "from xmlr import xmlparse\n",
    "import pandas as pd"
   ]
  },
  {
   "cell_type": "code",
   "execution_count": 2,
   "metadata": {
    "collapsed": true
   },
   "outputs": [],
   "source": [
    "doc =xmlparse(\"./apnea/mesa-sleep-0001-profusion.xml\")"
   ]
  },
  {
   "cell_type": "code",
   "execution_count": 3,
   "metadata": {
    "collapsed": true
   },
   "outputs": [],
   "source": [
    "final=doc[\"CMPStudyConfig\"][\"ScoredEvents\"][\"ScoredEvent\"]"
   ]
  },
  {
   "cell_type": "code",
   "execution_count": 4,
   "metadata": {
    "collapsed": true
   },
   "outputs": [],
   "source": [
    "import pandas as pd\n",
    "df=pd.DataFrame.from_dict(final)"
   ]
  },
  {
   "cell_type": "code",
   "execution_count": 5,
   "metadata": {},
   "outputs": [
    {
     "data": {
      "text/html": [
       "<div>\n",
       "<style>\n",
       "    .dataframe thead tr:only-child th {\n",
       "        text-align: right;\n",
       "    }\n",
       "\n",
       "    .dataframe thead th {\n",
       "        text-align: left;\n",
       "    }\n",
       "\n",
       "    .dataframe tbody tr th {\n",
       "        vertical-align: top;\n",
       "    }\n",
       "</style>\n",
       "<table border=\"1\" class=\"dataframe\">\n",
       "  <thead>\n",
       "    <tr style=\"text-align: right;\">\n",
       "      <th></th>\n",
       "      <th>Desaturation</th>\n",
       "      <th>Duration</th>\n",
       "      <th>Input</th>\n",
       "      <th>LowestSpO2</th>\n",
       "      <th>Name</th>\n",
       "      <th>Start</th>\n",
       "    </tr>\n",
       "  </thead>\n",
       "  <tbody>\n",
       "    <tr>\n",
       "      <th>0</th>\n",
       "      <td>2</td>\n",
       "      <td>31</td>\n",
       "      <td>SpO2</td>\n",
       "      <td>96</td>\n",
       "      <td>SpO2 desaturation</td>\n",
       "      <td>148</td>\n",
       "    </tr>\n",
       "    <tr>\n",
       "      <th>1</th>\n",
       "      <td>3</td>\n",
       "      <td>89</td>\n",
       "      <td>SpO2</td>\n",
       "      <td>95</td>\n",
       "      <td>SpO2 desaturation</td>\n",
       "      <td>197</td>\n",
       "    </tr>\n",
       "    <tr>\n",
       "      <th>2</th>\n",
       "      <td>2</td>\n",
       "      <td>11</td>\n",
       "      <td>SpO2</td>\n",
       "      <td>95</td>\n",
       "      <td>SpO2 desaturation</td>\n",
       "      <td>565</td>\n",
       "    </tr>\n",
       "    <tr>\n",
       "      <th>3</th>\n",
       "      <td>2</td>\n",
       "      <td>50</td>\n",
       "      <td>SpO2</td>\n",
       "      <td>94</td>\n",
       "      <td>SpO2 desaturation</td>\n",
       "      <td>1003</td>\n",
       "    </tr>\n",
       "    <tr>\n",
       "      <th>4</th>\n",
       "      <td>2</td>\n",
       "      <td>35</td>\n",
       "      <td>SpO2</td>\n",
       "      <td>95</td>\n",
       "      <td>SpO2 desaturation</td>\n",
       "      <td>1065</td>\n",
       "    </tr>\n",
       "  </tbody>\n",
       "</table>\n",
       "</div>"
      ],
      "text/plain": [
       "  Desaturation Duration Input LowestSpO2               Name Start\n",
       "0            2       31  SpO2         96  SpO2 desaturation   148\n",
       "1            3       89  SpO2         95  SpO2 desaturation   197\n",
       "2            2       11  SpO2         95  SpO2 desaturation   565\n",
       "3            2       50  SpO2         94  SpO2 desaturation  1003\n",
       "4            2       35  SpO2         95  SpO2 desaturation  1065"
      ]
     },
     "execution_count": 5,
     "metadata": {},
     "output_type": "execute_result"
    }
   ],
   "source": [
    "df.head()"
   ]
  },
  {
   "cell_type": "code",
   "execution_count": 6,
   "metadata": {
    "collapsed": true
   },
   "outputs": [],
   "source": [
    "data=df[df[\"Name\"]=='Hypopnea']"
   ]
  },
  {
   "cell_type": "code",
   "execution_count": 9,
   "metadata": {
    "collapsed": true
   },
   "outputs": [],
   "source": [
    "Apnea=data[[\"Duration\",\"Input\",\"Name\",\"Start\"]]"
   ]
  },
  {
   "cell_type": "code",
   "execution_count": 10,
   "metadata": {},
   "outputs": [],
   "source": [
    "Apnea.to_csv(\"Apnea.csv\")"
   ]
  },
  {
   "cell_type": "code",
   "execution_count": 98,
   "metadata": {
    "collapsed": true
   },
   "outputs": [],
   "source": [
    "document =xmlparse(\"./stage/mesa-sleep-0001-nsrr.xml\")"
   ]
  },
  {
   "cell_type": "code",
   "execution_count": 99,
   "metadata": {
    "collapsed": true
   },
   "outputs": [],
   "source": [
    "stage=document['PSGAnnotation'][\"ScoredEvents\"][\"ScoredEvent\"]"
   ]
  },
  {
   "cell_type": "code",
   "execution_count": 100,
   "metadata": {},
   "outputs": [
    {
     "data": {
      "text/plain": [
       "list"
      ]
     },
     "execution_count": 100,
     "metadata": {},
     "output_type": "execute_result"
    }
   ],
   "source": [
    "type(stage)"
   ]
  },
  {
   "cell_type": "code",
   "execution_count": 102,
   "metadata": {
    "collapsed": true
   },
   "outputs": [],
   "source": [
    "stage=pd.DataFrame.from_dict(stage)"
   ]
  },
  {
   "cell_type": "code",
   "execution_count": 103,
   "metadata": {
    "collapsed": true
   },
   "outputs": [],
   "source": [
    "stage=stage[stage[\"EventType\"]==\"Stages|Stages\"]"
   ]
  },
  {
   "cell_type": "code",
   "execution_count": 104,
   "metadata": {},
   "outputs": [
    {
     "data": {
      "text/html": [
       "<div>\n",
       "<style>\n",
       "    .dataframe thead tr:only-child th {\n",
       "        text-align: right;\n",
       "    }\n",
       "\n",
       "    .dataframe thead th {\n",
       "        text-align: left;\n",
       "    }\n",
       "\n",
       "    .dataframe tbody tr th {\n",
       "        vertical-align: top;\n",
       "    }\n",
       "</style>\n",
       "<table border=\"1\" class=\"dataframe\">\n",
       "  <thead>\n",
       "    <tr style=\"text-align: right;\">\n",
       "      <th></th>\n",
       "      <th>ClockTime</th>\n",
       "      <th>Duration</th>\n",
       "      <th>EventConcept</th>\n",
       "      <th>EventType</th>\n",
       "      <th>SignalLocation</th>\n",
       "      <th>SpO2Baseline</th>\n",
       "      <th>SpO2Nadir</th>\n",
       "      <th>Start</th>\n",
       "    </tr>\n",
       "  </thead>\n",
       "  <tbody>\n",
       "    <tr>\n",
       "      <th>883</th>\n",
       "      <td>NaN</td>\n",
       "      <td>5190.0</td>\n",
       "      <td>Wake|0</td>\n",
       "      <td>Stages|Stages</td>\n",
       "      <td>NaN</td>\n",
       "      <td>NaN</td>\n",
       "      <td>NaN</td>\n",
       "      <td>0.0</td>\n",
       "    </tr>\n",
       "    <tr>\n",
       "      <th>884</th>\n",
       "      <td>NaN</td>\n",
       "      <td>30.0</td>\n",
       "      <td>Stage 1 sleep|1</td>\n",
       "      <td>Stages|Stages</td>\n",
       "      <td>NaN</td>\n",
       "      <td>NaN</td>\n",
       "      <td>NaN</td>\n",
       "      <td>5190.0</td>\n",
       "    </tr>\n",
       "    <tr>\n",
       "      <th>885</th>\n",
       "      <td>NaN</td>\n",
       "      <td>90.0</td>\n",
       "      <td>Wake|0</td>\n",
       "      <td>Stages|Stages</td>\n",
       "      <td>NaN</td>\n",
       "      <td>NaN</td>\n",
       "      <td>NaN</td>\n",
       "      <td>5220.0</td>\n",
       "    </tr>\n",
       "    <tr>\n",
       "      <th>886</th>\n",
       "      <td>NaN</td>\n",
       "      <td>60.0</td>\n",
       "      <td>Stage 1 sleep|1</td>\n",
       "      <td>Stages|Stages</td>\n",
       "      <td>NaN</td>\n",
       "      <td>NaN</td>\n",
       "      <td>NaN</td>\n",
       "      <td>5310.0</td>\n",
       "    </tr>\n",
       "    <tr>\n",
       "      <th>887</th>\n",
       "      <td>NaN</td>\n",
       "      <td>90.0</td>\n",
       "      <td>Stage 2 sleep|2</td>\n",
       "      <td>Stages|Stages</td>\n",
       "      <td>NaN</td>\n",
       "      <td>NaN</td>\n",
       "      <td>NaN</td>\n",
       "      <td>5370.0</td>\n",
       "    </tr>\n",
       "  </tbody>\n",
       "</table>\n",
       "</div>"
      ],
      "text/plain": [
       "    ClockTime Duration     EventConcept      EventType SignalLocation  \\\n",
       "883       NaN   5190.0           Wake|0  Stages|Stages            NaN   \n",
       "884       NaN     30.0  Stage 1 sleep|1  Stages|Stages            NaN   \n",
       "885       NaN     90.0           Wake|0  Stages|Stages            NaN   \n",
       "886       NaN     60.0  Stage 1 sleep|1  Stages|Stages            NaN   \n",
       "887       NaN     90.0  Stage 2 sleep|2  Stages|Stages            NaN   \n",
       "\n",
       "    SpO2Baseline SpO2Nadir   Start  \n",
       "883          NaN       NaN     0.0  \n",
       "884          NaN       NaN  5190.0  \n",
       "885          NaN       NaN  5220.0  \n",
       "886          NaN       NaN  5310.0  \n",
       "887          NaN       NaN  5370.0  "
      ]
     },
     "execution_count": 104,
     "metadata": {},
     "output_type": "execute_result"
    }
   ],
   "source": [
    "stage.head()"
   ]
  },
  {
   "cell_type": "code",
   "execution_count": 105,
   "metadata": {
    "collapsed": true
   },
   "outputs": [],
   "source": [
    "stage=stage[[\"Duration\",\"EventConcept\",\"EventType\",\"Start\"]]"
   ]
  },
  {
   "cell_type": "code",
   "execution_count": 106,
   "metadata": {},
   "outputs": [
    {
     "data": {
      "text/html": [
       "<div>\n",
       "<style>\n",
       "    .dataframe thead tr:only-child th {\n",
       "        text-align: right;\n",
       "    }\n",
       "\n",
       "    .dataframe thead th {\n",
       "        text-align: left;\n",
       "    }\n",
       "\n",
       "    .dataframe tbody tr th {\n",
       "        vertical-align: top;\n",
       "    }\n",
       "</style>\n",
       "<table border=\"1\" class=\"dataframe\">\n",
       "  <thead>\n",
       "    <tr style=\"text-align: right;\">\n",
       "      <th></th>\n",
       "      <th>Duration</th>\n",
       "      <th>EventConcept</th>\n",
       "      <th>EventType</th>\n",
       "      <th>Start</th>\n",
       "    </tr>\n",
       "  </thead>\n",
       "  <tbody>\n",
       "    <tr>\n",
       "      <th>883</th>\n",
       "      <td>5190.0</td>\n",
       "      <td>Wake|0</td>\n",
       "      <td>Stages|Stages</td>\n",
       "      <td>0.0</td>\n",
       "    </tr>\n",
       "    <tr>\n",
       "      <th>884</th>\n",
       "      <td>30.0</td>\n",
       "      <td>Stage 1 sleep|1</td>\n",
       "      <td>Stages|Stages</td>\n",
       "      <td>5190.0</td>\n",
       "    </tr>\n",
       "    <tr>\n",
       "      <th>885</th>\n",
       "      <td>90.0</td>\n",
       "      <td>Wake|0</td>\n",
       "      <td>Stages|Stages</td>\n",
       "      <td>5220.0</td>\n",
       "    </tr>\n",
       "    <tr>\n",
       "      <th>886</th>\n",
       "      <td>60.0</td>\n",
       "      <td>Stage 1 sleep|1</td>\n",
       "      <td>Stages|Stages</td>\n",
       "      <td>5310.0</td>\n",
       "    </tr>\n",
       "    <tr>\n",
       "      <th>887</th>\n",
       "      <td>90.0</td>\n",
       "      <td>Stage 2 sleep|2</td>\n",
       "      <td>Stages|Stages</td>\n",
       "      <td>5370.0</td>\n",
       "    </tr>\n",
       "  </tbody>\n",
       "</table>\n",
       "</div>"
      ],
      "text/plain": [
       "    Duration     EventConcept      EventType   Start\n",
       "883   5190.0           Wake|0  Stages|Stages     0.0\n",
       "884     30.0  Stage 1 sleep|1  Stages|Stages  5190.0\n",
       "885     90.0           Wake|0  Stages|Stages  5220.0\n",
       "886     60.0  Stage 1 sleep|1  Stages|Stages  5310.0\n",
       "887     90.0  Stage 2 sleep|2  Stages|Stages  5370.0"
      ]
     },
     "execution_count": 106,
     "metadata": {},
     "output_type": "execute_result"
    }
   ],
   "source": [
    "stage.head()"
   ]
  },
  {
   "cell_type": "code",
   "execution_count": 4,
   "metadata": {},
   "outputs": [
    {
     "ename": "AttributeError",
     "evalue": "'EdfReader' object has no attribute 'close'",
     "output_type": "error",
     "traceback": [
      "\u001b[1;31m---------------------------------------------------------------------------\u001b[0m",
      "\u001b[1;31mAttributeError\u001b[0m                            Traceback (most recent call last)",
      "\u001b[1;32m<ipython-input-4-fa01cc0d8510>\u001b[0m in \u001b[0;36m<module>\u001b[1;34m()\u001b[0m\n\u001b[1;32m----> 1\u001b[1;33m \u001b[0mf\u001b[0m\u001b[1;33m.\u001b[0m\u001b[0mclose\u001b[0m\u001b[1;33m(\u001b[0m\u001b[1;33m)\u001b[0m\u001b[1;33m\u001b[0m\u001b[0m\n\u001b[0m",
      "\u001b[1;31mAttributeError\u001b[0m: 'EdfReader' object has no attribute 'close'"
     ]
    }
   ],
   "source": [
    "f.close()"
   ]
  },
  {
   "cell_type": "code",
   "execution_count": 5,
   "metadata": {
    "collapsed": true
   },
   "outputs": [],
   "source": [
    "labels = f.getSignalLabels()\n",
    "data_dict = dict()"
   ]
  },
  {
   "cell_type": "code",
   "execution_count": 10,
   "metadata": {
    "collapsed": true
   },
   "outputs": [],
   "source": [
    "n = f.signals_in_file\n",
    "signal_labels = f.getSignalLabels()\n",
    "n_min = f.getNSamples()[0]\n",
    "sigbufs = [np.zeros(f.getNSamples()[i]) for i in np.arange(n)]\n",
    "for i in np.arange(n):\n",
    "    sigbufs[i] = f.readSignal(i)\n",
    "    if n_min < len(sigbufs[i]):\n",
    "        n_min = len(sigbufs[i])\n",
    "f._close()"
   ]
  },
  {
   "cell_type": "code",
   "execution_count": 13,
   "metadata": {
    "collapsed": true
   },
   "outputs": [],
   "source": [
    "signal_labels_row = \",\".join(signal_labels)"
   ]
  },
  {
   "cell_type": "code",
   "execution_count": null,
   "metadata": {
    "collapsed": true
   },
   "outputs": [],
   "source": [
    "import pandas as pd\n",
    "edf=pd.DataFrame(sigbufs,columns=signal_labels)"
   ]
  },
  {
   "cell_type": "code",
   "execution_count": null,
   "metadata": {
    "collapsed": true
   },
   "outputs": [],
   "source": []
  },
  {
   "cell_type": "code",
   "execution_count": 12,
   "metadata": {},
   "outputs": [
    {
     "name": "stdout",
     "output_type": "stream",
     "text": [
      "\n",
      "signal parameters for the no. 8 channel:\n",
      "\n",
      "\n",
      "label: Flow\n",
      "samplefrequency: 32.000000\n",
      "\n",
      "read 1382368 samples\n",
      "\n",
      "\n",
      "---- Processing EDF file for FLOW signals and Combining Previous Results----\n",
      "\n",
      " 0  Signals Done.\n",
      "\n"
     ]
    },
    {
     "ename": "NameError",
     "evalue": "name 'duration_apnea' is not defined",
     "output_type": "error",
     "traceback": [
      "\u001b[1;31m---------------------------------------------------------------------------\u001b[0m",
      "\u001b[1;31mNameError\u001b[0m                                 Traceback (most recent call last)",
      "\u001b[1;32m<ipython-input-12-bea97d9b2a3b>\u001b[0m in \u001b[0;36m<module>\u001b[1;34m()\u001b[0m\n\u001b[0;32m     24\u001b[0m                 \u001b[0mresult\u001b[0m\u001b[1;33m[\u001b[0m\u001b[1;34m'Time'\u001b[0m\u001b[1;33m]\u001b[0m \u001b[1;33m=\u001b[0m \u001b[0mepoch\u001b[0m\u001b[1;33m\u001b[0m\u001b[0m\n\u001b[0;32m     25\u001b[0m                 \u001b[1;32mfor\u001b[0m \u001b[0mapnea_index\u001b[0m \u001b[1;32min\u001b[0m \u001b[0mrange\u001b[0m\u001b[1;33m(\u001b[0m\u001b[1;36m0\u001b[0m\u001b[1;33m,\u001b[0m\u001b[1;36m1\u001b[0m\u001b[1;33m)\u001b[0m\u001b[1;33m:\u001b[0m\u001b[1;33m\u001b[0m\u001b[0m\n\u001b[1;32m---> 26\u001b[1;33m                         \u001b[1;32mif\u001b[0m\u001b[1;33m(\u001b[0m\u001b[0mlen\u001b[0m\u001b[1;33m(\u001b[0m\u001b[0mduration_apnea\u001b[0m\u001b[1;33m)\u001b[0m \u001b[1;33m>\u001b[0m \u001b[1;36m1\u001b[0m \u001b[1;32mand\u001b[0m \u001b[0mlen\u001b[0m\u001b[1;33m(\u001b[0m\u001b[0mduration_apnea\u001b[0m\u001b[1;33m)\u001b[0m \u001b[1;33m>\u001b[0m \u001b[1;36m1\u001b[0m \u001b[1;32mand\u001b[0m \u001b[0mepoch\u001b[0m\u001b[1;33m>=\u001b[0m\u001b[0mfloat\u001b[0m\u001b[1;33m(\u001b[0m\u001b[0mstart_apnea\u001b[0m\u001b[1;33m[\u001b[0m\u001b[0mapnea_index\u001b[0m\u001b[1;33m]\u001b[0m\u001b[1;33m)\u001b[0m \u001b[1;32mand\u001b[0m \u001b[0mepoch\u001b[0m \u001b[1;33m<=\u001b[0m \u001b[0mfloat\u001b[0m\u001b[1;33m(\u001b[0m\u001b[0mduration_apnea\u001b[0m\u001b[1;33m[\u001b[0m\u001b[0mapnea_index\u001b[0m\u001b[1;33m]\u001b[0m\u001b[1;33m)\u001b[0m \u001b[1;33m+\u001b[0m \u001b[0mfloat\u001b[0m\u001b[1;33m(\u001b[0m \u001b[0mstart_apnea\u001b[0m\u001b[1;33m[\u001b[0m\u001b[0mapnea_index\u001b[0m\u001b[1;33m]\u001b[0m\u001b[1;33m)\u001b[0m\u001b[1;33m)\u001b[0m\u001b[1;33m:\u001b[0m\u001b[1;33m\u001b[0m\u001b[0m\n\u001b[0m\u001b[0;32m     27\u001b[0m                                 \u001b[0mresult\u001b[0m\u001b[1;33m[\u001b[0m\u001b[1;34m'Apnea'\u001b[0m\u001b[1;33m]\u001b[0m\u001b[1;33m=\u001b[0m\u001b[1;36m1\u001b[0m\u001b[1;33m\u001b[0m\u001b[0m\n\u001b[0;32m     28\u001b[0m                         \u001b[1;32melif\u001b[0m\u001b[1;33m(\u001b[0m\u001b[0mepoch\u001b[0m \u001b[1;33m>\u001b[0m \u001b[0mfloat\u001b[0m\u001b[1;33m(\u001b[0m\u001b[0mduration_apnea\u001b[0m\u001b[1;33m[\u001b[0m\u001b[0mapnea_index\u001b[0m\u001b[1;33m]\u001b[0m\u001b[1;33m)\u001b[0m \u001b[1;33m+\u001b[0m \u001b[0mfloat\u001b[0m\u001b[1;33m(\u001b[0m \u001b[0mstart_apnea\u001b[0m\u001b[1;33m[\u001b[0m\u001b[0mapnea_index\u001b[0m\u001b[1;33m]\u001b[0m\u001b[1;33m)\u001b[0m \u001b[1;32mand\u001b[0m \u001b[0mlen\u001b[0m\u001b[1;33m(\u001b[0m\u001b[0mduration_apnea\u001b[0m\u001b[1;33m)\u001b[0m \u001b[1;33m>\u001b[0m \u001b[1;36m1\u001b[0m \u001b[1;33m)\u001b[0m\u001b[1;33m:\u001b[0m\u001b[1;33m\u001b[0m\u001b[0m\n",
      "\u001b[1;31mNameError\u001b[0m: name 'duration_apnea' is not defined"
     ]
    }
   ],
   "source": [
    "import csv\n",
    "import pyedflib\n",
    "channel= 8\n",
    "f = pyedflib.EdfReader(\"./flow/mesa-sleep-0001.edf\")\n",
    "n= f.signals_in_file\n",
    "epoch=0\n",
    "buf = f.readSignal(channel)\n",
    "n =f.getNSamples()[channel]    ## Can be changed to less number for Testing Purposes\n",
    "channel=8   ## index of Flow channel\n",
    "print(\"\\nsignal parameters for the no. %d channel:\\n\\n\" % channel)\n",
    "print(\"label: %s\" % f.getLabel(channel))\n",
    "print(\"samplefrequency: %f\" % f.getSampleFrequency(channel))\n",
    "print(\"\\nread %i samples\\n\" % n)\n",
    "result = {}\n",
    "fields = ['Time','Flow','Apnea','Stage']\n",
    "with open (\"FINAL_stats.csv\", 'w') as csvfile:\n",
    "\twriter = csv.DictWriter(csvfile, fieldnames = fields)\n",
    "\twriter.writeheader()\n",
    "\tprint (\"\\n---- Processing EDF file for FLOW signals and Combining Previous Results----\\n\")\n",
    "\tfor i in np.arange(n):\n",
    "\t\tif(i % 500000 == 0):\n",
    "\t\t\tprint (\" %i  Signals Done.\\n\" % i)\n",
    "\t\tresult['Flow'] = (buf[i])\n",
    "\t\tresult['Time'] = epoch\n",
    "\t\tfor apnea_index in range(0,1):\n",
    "\t\t\tif(len(duration_apnea) > 1 and len(duration_apnea) > 1 and epoch>=float(start_apnea[apnea_index]) and epoch <= float(duration_apnea[apnea_index]) + float( start_apnea[apnea_index])):\n",
    "\t\t\t\tresult['Apnea']=1\n",
    "\t\t\telif(epoch > float(duration_apnea[apnea_index]) + float( start_apnea[apnea_index]) and len(duration_apnea) > 1 ):\n",
    "\t\t\t\tduration_apnea.pop(0)\n",
    "\t\t\t\tstart_apnea.pop(0)\n",
    "\t\t\t\tresult['Apnea'] = 0\n",
    "\t\t\telse:\n",
    "\t\t\t\tresult['Apnea'] = 0\n",
    "\t\tif(epoch>=float(start_stages[0]) and epoch < float(duration_stages[0]) + float( start_stages[0])):\n",
    "\t\t\tresult['Stage']= int (level[0])\n",
    "\t\tif(epoch > float(duration_stages[0]) + float( start_stages[0]) and len(start_stages) > 1):\n",
    "\t\t\tduration_stages.pop(0)\n",
    "\t\t\tstart_stages.pop(0)\n",
    "\t\t\tlevel.pop(0)\n",
    "\t\tepoch = epoch + (1/32)\n",
    "\t\twriter.writerow(result)\n"
   ]
  },
  {
   "cell_type": "code",
   "execution_count": 143,
   "metadata": {},
   "outputs": [
    {
     "ename": "AttributeError",
     "evalue": "'EdfReader' object has no attribute 'close'",
     "output_type": "error",
     "traceback": [
      "\u001b[1;31m---------------------------------------------------------------------------\u001b[0m",
      "\u001b[1;31mAttributeError\u001b[0m                            Traceback (most recent call last)",
      "\u001b[1;32m<ipython-input-143-90f9a9bfbe27>\u001b[0m in \u001b[0;36m<module>\u001b[1;34m()\u001b[0m\n\u001b[1;32m----> 1\u001b[1;33m \u001b[0mf\u001b[0m\u001b[1;33m.\u001b[0m\u001b[0mclose\u001b[0m\u001b[1;33m\u001b[0m\u001b[0m\n\u001b[0m",
      "\u001b[1;31mAttributeError\u001b[0m: 'EdfReader' object has no attribute 'close'"
     ]
    }
   ],
   "source": [
    "f.close"
   ]
  },
  {
   "cell_type": "code",
   "execution_count": null,
   "metadata": {
    "collapsed": true
   },
   "outputs": [],
   "source": []
  },
  {
   "cell_type": "code",
   "execution_count": null,
   "metadata": {
    "collapsed": true
   },
   "outputs": [],
   "source": []
  },
  {
   "cell_type": "code",
   "execution_count": null,
   "metadata": {
    "collapsed": true
   },
   "outputs": [],
   "source": []
  },
  {
   "cell_type": "code",
   "execution_count": null,
   "metadata": {
    "collapsed": true
   },
   "outputs": [],
   "source": []
  },
  {
   "cell_type": "code",
   "execution_count": null,
   "metadata": {
    "collapsed": true
   },
   "outputs": [],
   "source": []
  }
 ],
 "metadata": {
  "kernelspec": {
   "display_name": "Python 3",
   "language": "python",
   "name": "python3"
  },
  "language_info": {
   "codemirror_mode": {
    "name": "ipython",
    "version": 3
   },
   "file_extension": ".py",
   "mimetype": "text/x-python",
   "name": "python",
   "nbconvert_exporter": "python",
   "pygments_lexer": "ipython3",
   "version": "3.6.3"
  }
 },
 "nbformat": 4,
 "nbformat_minor": 2
}
